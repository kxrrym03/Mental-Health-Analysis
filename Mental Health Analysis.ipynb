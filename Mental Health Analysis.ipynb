{
 "cells": [
  {
   "cell_type": "code",
   "execution_count": 3,
   "id": "b01781b8-09d9-44df-be03-2f4f4a953e62",
   "metadata": {},
   "outputs": [
    {
     "name": "stdout",
     "output_type": "stream",
     "text": [
      "   age      gender employment_status work_environment mental_health_history  \\\n",
      "0   56        Male          Employed          On-site                   Yes   \n",
      "1   46      Female           Student          On-site                    No   \n",
      "2   32      Female          Employed          On-site                   Yes   \n",
      "3   60  Non-binary     Self-employed          On-site                    No   \n",
      "4   25      Female     Self-employed          On-site                   Yes   \n",
      "\n",
      "  seeks_treatment  stress_level  sleep_hours  physical_activity_days  \\\n",
      "0             Yes             6          6.2                       3   \n",
      "1             Yes            10          9.0                       4   \n",
      "2              No             7          7.7                       2   \n",
      "3              No             4          4.5                       4   \n",
      "4             Yes             3          5.4                       0   \n",
      "\n",
      "   depression_score  anxiety_score  social_support_score  productivity_score  \\\n",
      "0                28             17                    54                59.7   \n",
      "1                30             11                    85                54.9   \n",
      "2                24              7                    62                61.3   \n",
      "3                 6              0                    95                97.0   \n",
      "4                24             12                    70                69.0   \n",
      "\n",
      "  mental_health_risk  \n",
      "0               High  \n",
      "1               High  \n",
      "2             Medium  \n",
      "3                Low  \n",
      "4               High  \n"
     ]
    },
    {
     "data": {
      "text/plain": [
       "(10000, 14)"
      ]
     },
     "execution_count": 3,
     "metadata": {},
     "output_type": "execute_result"
    }
   ],
   "source": [
    "import pandas as pd\n",
    "import numpy as np\n",
    "import seaborn as sns\n",
    "import matplotlib.pyplot as plt\n",
    "df = pd.read_csv(r'C:\\Users\\Kerry\\mental_health_dataset.csv')\n",
    "\n",
    "print(df.head())\n",
    "df.shape"
   ]
  },
  {
   "cell_type": "code",
   "execution_count": 4,
   "id": "a054afef-49d3-47bc-be33-1ab41c2262ca",
   "metadata": {},
   "outputs": [
    {
     "data": {
      "text/plain": [
       "age                       0\n",
       "gender                    0\n",
       "employment_status         0\n",
       "work_environment          0\n",
       "mental_health_history     0\n",
       "seeks_treatment           0\n",
       "stress_level              0\n",
       "sleep_hours               0\n",
       "physical_activity_days    0\n",
       "depression_score          0\n",
       "anxiety_score             0\n",
       "social_support_score      0\n",
       "productivity_score        0\n",
       "mental_health_risk        0\n",
       "dtype: int64"
      ]
     },
     "execution_count": 4,
     "metadata": {},
     "output_type": "execute_result"
    }
   ],
   "source": [
    "df.isnull().sum()"
   ]
  },
  {
   "cell_type": "code",
   "execution_count": 5,
   "id": "6c0233ae-a33b-4df1-b00b-afaadd3b4546",
   "metadata": {},
   "outputs": [
    {
     "data": {
      "text/plain": [
       "0"
      ]
     },
     "execution_count": 5,
     "metadata": {},
     "output_type": "execute_result"
    }
   ],
   "source": [
    "df.duplicated().sum()"
   ]
  },
  {
   "cell_type": "code",
   "execution_count": 6,
   "id": "46c7b4f9-b129-4bc6-8698-2255c9358ac8",
   "metadata": {},
   "outputs": [
    {
     "data": {
      "text/plain": [
       "<bound method DataFrame.info of       age      gender employment_status work_environment  \\\n",
       "0      56        Male          Employed          On-site   \n",
       "1      46      Female           Student          On-site   \n",
       "2      32      Female          Employed          On-site   \n",
       "3      60  Non-binary     Self-employed          On-site   \n",
       "4      25      Female     Self-employed          On-site   \n",
       "...   ...         ...               ...              ...   \n",
       "9995   34      Female          Employed          On-site   \n",
       "9996   47        Male          Employed          On-site   \n",
       "9997   56      Female          Employed          On-site   \n",
       "9998   24        Male          Employed          On-site   \n",
       "9999   44        Male        Unemployed           Remote   \n",
       "\n",
       "     mental_health_history seeks_treatment  stress_level  sleep_hours  \\\n",
       "0                      Yes             Yes             6          6.2   \n",
       "1                       No             Yes            10          9.0   \n",
       "2                      Yes              No             7          7.7   \n",
       "3                       No              No             4          4.5   \n",
       "4                      Yes             Yes             3          5.4   \n",
       "...                    ...             ...           ...          ...   \n",
       "9995                   Yes             Yes             5          6.1   \n",
       "9996                   Yes              No             1          5.7   \n",
       "9997                   Yes              No             1          8.3   \n",
       "9998                   Yes             Yes             9          6.1   \n",
       "9999                    No             Yes             5          6.4   \n",
       "\n",
       "      physical_activity_days  depression_score  anxiety_score  \\\n",
       "0                          3                28             17   \n",
       "1                          4                30             11   \n",
       "2                          2                24              7   \n",
       "3                          4                 6              0   \n",
       "4                          0                24             12   \n",
       "...                      ...               ...            ...   \n",
       "9995                       3                 9             21   \n",
       "9996                       3                 5             12   \n",
       "9997                       0                 1             18   \n",
       "9998                       0                28             21   \n",
       "9999                       7                 1             16   \n",
       "\n",
       "      social_support_score  productivity_score mental_health_risk  \n",
       "0                       54                59.7               High  \n",
       "1                       85                54.9               High  \n",
       "2                       62                61.3             Medium  \n",
       "3                       95                97.0                Low  \n",
       "4                       70                69.0               High  \n",
       "...                    ...                 ...                ...  \n",
       "9995                     8                90.0             Medium  \n",
       "9996                    45                90.8             Medium  \n",
       "9997                     7                99.2             Medium  \n",
       "9998                    32                56.7               High  \n",
       "9999                    25               100.0             Medium  \n",
       "\n",
       "[10000 rows x 14 columns]>"
      ]
     },
     "execution_count": 6,
     "metadata": {},
     "output_type": "execute_result"
    }
   ],
   "source": [
    "df.info"
   ]
  },
  {
   "cell_type": "code",
   "execution_count": 7,
   "id": "67d92d03-cf1f-4f4a-83cc-744999672ecd",
   "metadata": {},
   "outputs": [
    {
     "data": {
      "text/html": [
       "<div>\n",
       "<style scoped>\n",
       "    .dataframe tbody tr th:only-of-type {\n",
       "        vertical-align: middle;\n",
       "    }\n",
       "\n",
       "    .dataframe tbody tr th {\n",
       "        vertical-align: top;\n",
       "    }\n",
       "\n",
       "    .dataframe thead th {\n",
       "        text-align: right;\n",
       "    }\n",
       "</style>\n",
       "<table border=\"1\" class=\"dataframe\">\n",
       "  <thead>\n",
       "    <tr style=\"text-align: right;\">\n",
       "      <th></th>\n",
       "      <th>age</th>\n",
       "      <th>stress_level</th>\n",
       "      <th>sleep_hours</th>\n",
       "      <th>physical_activity_days</th>\n",
       "      <th>depression_score</th>\n",
       "      <th>anxiety_score</th>\n",
       "      <th>social_support_score</th>\n",
       "      <th>productivity_score</th>\n",
       "    </tr>\n",
       "  </thead>\n",
       "  <tbody>\n",
       "    <tr>\n",
       "      <th>count</th>\n",
       "      <td>10000.000000</td>\n",
       "      <td>10000.000000</td>\n",
       "      <td>10000.000000</td>\n",
       "      <td>10000.000000</td>\n",
       "      <td>10000.000000</td>\n",
       "      <td>10000.00000</td>\n",
       "      <td>10000.000000</td>\n",
       "      <td>10000.000000</td>\n",
       "    </tr>\n",
       "    <tr>\n",
       "      <th>mean</th>\n",
       "      <td>41.557600</td>\n",
       "      <td>5.572000</td>\n",
       "      <td>6.473000</td>\n",
       "      <td>3.505700</td>\n",
       "      <td>15.039900</td>\n",
       "      <td>10.56180</td>\n",
       "      <td>50.117700</td>\n",
       "      <td>77.312210</td>\n",
       "    </tr>\n",
       "    <tr>\n",
       "      <th>std</th>\n",
       "      <td>13.749581</td>\n",
       "      <td>2.887741</td>\n",
       "      <td>1.473944</td>\n",
       "      <td>2.282737</td>\n",
       "      <td>8.990839</td>\n",
       "      <td>6.32264</td>\n",
       "      <td>29.229278</td>\n",
       "      <td>14.061202</td>\n",
       "    </tr>\n",
       "    <tr>\n",
       "      <th>min</th>\n",
       "      <td>18.000000</td>\n",
       "      <td>1.000000</td>\n",
       "      <td>3.000000</td>\n",
       "      <td>0.000000</td>\n",
       "      <td>0.000000</td>\n",
       "      <td>0.00000</td>\n",
       "      <td>0.000000</td>\n",
       "      <td>42.800000</td>\n",
       "    </tr>\n",
       "    <tr>\n",
       "      <th>25%</th>\n",
       "      <td>30.000000</td>\n",
       "      <td>3.000000</td>\n",
       "      <td>5.500000</td>\n",
       "      <td>2.000000</td>\n",
       "      <td>7.000000</td>\n",
       "      <td>5.00000</td>\n",
       "      <td>25.000000</td>\n",
       "      <td>65.800000</td>\n",
       "    </tr>\n",
       "    <tr>\n",
       "      <th>50%</th>\n",
       "      <td>41.500000</td>\n",
       "      <td>6.000000</td>\n",
       "      <td>6.500000</td>\n",
       "      <td>4.000000</td>\n",
       "      <td>15.000000</td>\n",
       "      <td>11.00000</td>\n",
       "      <td>50.000000</td>\n",
       "      <td>77.600000</td>\n",
       "    </tr>\n",
       "    <tr>\n",
       "      <th>75%</th>\n",
       "      <td>53.000000</td>\n",
       "      <td>8.000000</td>\n",
       "      <td>7.500000</td>\n",
       "      <td>5.000000</td>\n",
       "      <td>23.000000</td>\n",
       "      <td>16.00000</td>\n",
       "      <td>76.000000</td>\n",
       "      <td>89.200000</td>\n",
       "    </tr>\n",
       "    <tr>\n",
       "      <th>max</th>\n",
       "      <td>65.000000</td>\n",
       "      <td>10.000000</td>\n",
       "      <td>10.000000</td>\n",
       "      <td>7.000000</td>\n",
       "      <td>30.000000</td>\n",
       "      <td>21.00000</td>\n",
       "      <td>100.000000</td>\n",
       "      <td>100.000000</td>\n",
       "    </tr>\n",
       "  </tbody>\n",
       "</table>\n",
       "</div>"
      ],
      "text/plain": [
       "                age  stress_level   sleep_hours  physical_activity_days  \\\n",
       "count  10000.000000  10000.000000  10000.000000            10000.000000   \n",
       "mean      41.557600      5.572000      6.473000                3.505700   \n",
       "std       13.749581      2.887741      1.473944                2.282737   \n",
       "min       18.000000      1.000000      3.000000                0.000000   \n",
       "25%       30.000000      3.000000      5.500000                2.000000   \n",
       "50%       41.500000      6.000000      6.500000                4.000000   \n",
       "75%       53.000000      8.000000      7.500000                5.000000   \n",
       "max       65.000000     10.000000     10.000000                7.000000   \n",
       "\n",
       "       depression_score  anxiety_score  social_support_score  \\\n",
       "count      10000.000000    10000.00000          10000.000000   \n",
       "mean          15.039900       10.56180             50.117700   \n",
       "std            8.990839        6.32264             29.229278   \n",
       "min            0.000000        0.00000              0.000000   \n",
       "25%            7.000000        5.00000             25.000000   \n",
       "50%           15.000000       11.00000             50.000000   \n",
       "75%           23.000000       16.00000             76.000000   \n",
       "max           30.000000       21.00000            100.000000   \n",
       "\n",
       "       productivity_score  \n",
       "count        10000.000000  \n",
       "mean            77.312210  \n",
       "std             14.061202  \n",
       "min             42.800000  \n",
       "25%             65.800000  \n",
       "50%             77.600000  \n",
       "75%             89.200000  \n",
       "max            100.000000  "
      ]
     },
     "execution_count": 7,
     "metadata": {},
     "output_type": "execute_result"
    }
   ],
   "source": [
    "df.describe()"
   ]
  },
  {
   "cell_type": "code",
   "execution_count": 8,
   "id": "2c6887e1-bb67-4c9d-a181-af0dd44f860c",
   "metadata": {},
   "outputs": [
    {
     "data": {
      "text/plain": [
       "Index(['age', 'gender', 'employment_status', 'work_environment',\n",
       "       'mental_health_history', 'seeks_treatment', 'stress_level',\n",
       "       'sleep_hours', 'physical_activity_days', 'depression_score',\n",
       "       'anxiety_score', 'social_support_score', 'productivity_score',\n",
       "       'mental_health_risk'],\n",
       "      dtype='object')"
      ]
     },
     "execution_count": 8,
     "metadata": {},
     "output_type": "execute_result"
    }
   ],
   "source": [
    "df.columns"
   ]
  },
  {
   "cell_type": "code",
   "execution_count": null,
   "id": "08cac5ae-54b3-48a3-a8a0-384acb7f2cf3",
   "metadata": {},
   "outputs": [],
   "source": []
  }
 ],
 "metadata": {
  "kernelspec": {
   "display_name": "Python 3 (ipykernel)",
   "language": "python",
   "name": "python3"
  },
  "language_info": {
   "codemirror_mode": {
    "name": "ipython",
    "version": 3
   },
   "file_extension": ".py",
   "mimetype": "text/x-python",
   "name": "python",
   "nbconvert_exporter": "python",
   "pygments_lexer": "ipython3",
   "version": "3.12.7"
  }
 },
 "nbformat": 4,
 "nbformat_minor": 5
}
